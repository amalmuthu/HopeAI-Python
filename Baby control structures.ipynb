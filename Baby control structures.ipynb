{
 "cells": [
  {
   "cell_type": "code",
   "execution_count": 1,
   "id": "8b42ed10",
   "metadata": {},
   "outputs": [
    {
     "name": "stdout",
     "output_type": "stream",
     "text": [
      "Welcome to Assignment-1\n"
     ]
    }
   ],
   "source": [
    "print(\"Welcome to Assignment-1\")\n"
   ]
  },
  {
   "cell_type": "code",
   "execution_count": 7,
   "id": "13bdf964",
   "metadata": {},
   "outputs": [
    {
     "name": "stdout",
     "output_type": "stream",
     "text": [
      "Enter Num1:10\n",
      "Enter Num2:20\n",
      "The sum 30\n"
     ]
    }
   ],
   "source": [
    "Num1=int(input(\"Enter Num1:\"))\n",
    "Num2=int(input(\"Enter Num2:\")) \n",
    "Add=Num1+Num2\n",
    "print(\"The sum\",Add)\n"
   ]
  },
  {
   "cell_type": "code",
   "execution_count": null,
   "id": "94acdffe",
   "metadata": {},
   "outputs": [],
   "source": [
    "weight=float(input(\"Enter weight in kg:\")) \n",
    "height=float(input(\"Enter height in meter:\"))\n",
    "BMI=weight/(height**2) \n",
    "print(\"your BMI is\",BMI)\n",
    "if (BMI <18):\n",
    " print(\"your wight is undeweight\") \n",
    "elif(BMI<25): \n",
    "  print(\"your weight is normal\")\n",
    "elif(BMI<30):\n",
    "  print(\"your weight is obese\")"
   ]
  },
  {
   "cell_type": "code",
   "execution_count": null,
   "id": "b73b3535",
   "metadata": {},
   "outputs": [],
   "source": []
  }
 ],
 "metadata": {
  "kernelspec": {
   "display_name": "Python 3 (ipykernel)",
   "language": "python",
   "name": "python3"
  },
  "language_info": {
   "codemirror_mode": {
    "name": "ipython",
    "version": 3
   },
   "file_extension": ".py",
   "mimetype": "text/x-python",
   "name": "python",
   "nbconvert_exporter": "python",
   "pygments_lexer": "ipython3",
   "version": "3.11.4"
  }
 },
 "nbformat": 4,
 "nbformat_minor": 5
}
