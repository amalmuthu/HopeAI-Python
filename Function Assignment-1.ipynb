{
 "cells": [
  {
   "cell_type": "code",
   "execution_count": 26,
   "id": "c8f9ac9c",
   "metadata": {},
   "outputs": [
    {
     "name": "stdout",
     "output_type": "stream",
     "text": [
      "Enter inputs separated by space:  MachineLearning NeuralNetworks Vision Robotics SpeechProcessing NaturalLanguageProcessing\n",
      "Sub-fields in AI are:\n",
      "MachineLearning\n",
      "NeuralNetworks\n",
      "Vision\n",
      "Robotics\n",
      "SpeechProcessing\n",
      "NaturalLanguageProcessing\n"
     ]
    }
   ],
   "source": [
    "def Subfields():\n",
    "    user_inputs = input(\"Enter inputs separated by space: \").split()\n",
    "    \n",
    "    print(\"Sub-fields in AI are:\")\n",
    "    for input_value in user_inputs:\n",
    "        print(input_value)\n",
    "\n",
    "# Call the function to take inputs from the user and print them\n",
    "Subfields()\n"
   ]
  },
  {
   "cell_type": "code",
   "execution_count": 56,
   "id": "c1556919",
   "metadata": {},
   "outputs": [
    {
     "name": "stdout",
     "output_type": "stream",
     "text": [
      "Enter Number:8\n",
      "Number is even\n"
     ]
    }
   ],
   "source": [
    "def OddEven():\n",
    "    user_input = int(input(\"Enter Number:\"))\n",
    "     \n",
    "    if user_input % 2 != 0:\n",
    "          print (\"Number is odd\")\n",
    "    else:\n",
    "          print(\"Number is even\")\n",
    " \n",
    "\n",
    "OddEven()\n",
    "\n",
    "        "
   ]
  },
  {
   "cell_type": "code",
   "execution_count": 59,
   "id": "fd013144",
   "metadata": {},
   "outputs": [
    {
     "name": "stdout",
     "output_type": "stream",
     "text": [
      "Enter your gender (male/female): MALE\n",
      "Enter your age: 35\n",
      "You are eligible for marriage.\n"
     ]
    }
   ],
   "source": [
    "def eligibility(gender, age):\n",
    "    if gender.lower() == 'male':\n",
    "        if age >= 21:\n",
    "            print(\"You are eligible for marriage.\")\n",
    "        else:\n",
    "            print(\"not eligible for marriage\")\n",
    "    elif gender.lower() == 'female':\n",
    "        if age >= 18:\n",
    "            print(\" You are eligible for marriage.\")\n",
    "        else:\n",
    "            print(\"you are not eligible for marriage yet.\")\n",
    "    else:\n",
    "        print(\"Invalid gender input\")\n",
    "\n",
    "# Example usage:\n",
    "gender = input(\"Enter your gender (male/female): \")\n",
    "age = int(input(\"Enter your age: \"))\n",
    "eligibility(gender, age)"
   ]
  },
  {
   "cell_type": "code",
   "execution_count": 14,
   "id": "36c92a34",
   "metadata": {},
   "outputs": [
    {
     "name": "stdout",
     "output_type": "stream",
     "text": [
      "Enter marks for Subject 1: 67\n",
      "Enter marks for Subject 2: 98\n",
      "Enter marks for Subject 3: 96\n",
      "Enter marks for Subject 4: 78\n",
      "Enter marks for Subject 5: 79\n",
      "Subject 1: 67\n",
      "Subject 2: 98\n",
      "Subject 3: 96\n",
      "Subject 4: 78\n",
      "Subject 5: 79\n",
      "Total: 418\n",
      "Percentage: 83.6\n"
     ]
    }
   ],
   "source": [
    "def calculate_percentage():\n",
    "    num_subjects = 5\n",
    "    total_marks = 0\n",
    "    scores = []\n",
    "\n",
    "    for i in range(1,6):\n",
    "        score = int(input(f\"Enter marks for Subject {i}: \"))\n",
    "        scores.append(score)\n",
    "        total_marks += score\n",
    "\n",
    "        max_marks = num_subjects * 100  # Assuming each subject is out of 100\n",
    "\n",
    "   \n",
    "        percentage = (total_marks / max_marks) * 100\n",
    "\n",
    "   \n",
    "    for i in range(1, 6):\n",
    "        print(f\"Subject {i}: {scores[i - 1]}\")\n",
    "       \n",
    "    \n",
    "    print(\"Total:\", total_marks)\n",
    "    print(\"Percentage:\", percentage)\n",
    "\n",
    "        \n",
    "# Call the function\n",
    "calculate_percentage()\n"
   ]
  },
  {
   "cell_type": "code",
   "execution_count": 20,
   "id": "8463375f",
   "metadata": {},
   "outputs": [
    {
     "name": "stdout",
     "output_type": "stream",
     "text": [
      "area= 15.0\n",
      "perimeter= 12\n"
     ]
    }
   ],
   "source": [
    "\n",
    "\n",
    "def calculate_area(base, height):\n",
    "    # Formula to calculate the area of a triangle: (base * height) / 2\n",
    "    area = (base * height) / 2\n",
    "    return area\n",
    "\n",
    "def calculate_perimeter(side1, side2, side3):\n",
    "    # Formula to calculate the perimeter of a triangle: side1 + side2 + side3\n",
    "    perimeter = side1 + side2 + side3\n",
    "    return perimeter\n",
    "\n",
    "area=calculate_area(5,6)\n",
    "print(\"area=\",area)\n",
    "\n",
    "perimeter=calculate_perimeter(3,4,5)\n",
    "print(\"perimeter=\",perimeter)\n"
   ]
  },
  {
   "cell_type": "code",
   "execution_count": null,
   "id": "01017093",
   "metadata": {},
   "outputs": [],
   "source": []
  }
 ],
 "metadata": {
  "kernelspec": {
   "display_name": "Python 3 (ipykernel)",
   "language": "python",
   "name": "python3"
  },
  "language_info": {
   "codemirror_mode": {
    "name": "ipython",
    "version": 3
   },
   "file_extension": ".py",
   "mimetype": "text/x-python",
   "name": "python",
   "nbconvert_exporter": "python",
   "pygments_lexer": "ipython3",
   "version": "3.11.4"
  }
 },
 "nbformat": 4,
 "nbformat_minor": 5
}
