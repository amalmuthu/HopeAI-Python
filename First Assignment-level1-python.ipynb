{
 "cells": [
  {
   "cell_type": "code",
   "execution_count": 2,
   "id": "adfaa26d",
   "metadata": {},
   "outputs": [
    {
     "name": "stdout",
     "output_type": "stream",
     "text": [
      "HOPE AI\n"
     ]
    }
   ],
   "source": [
    "print(\"HOPE AI\")"
   ]
  },
  {
   "cell_type": "code",
   "execution_count": 3,
   "id": "9659b25e",
   "metadata": {},
   "outputs": [
    {
     "name": "stdout",
     "output_type": "stream",
     "text": [
      "enter your institute name:Hope AI\n",
      "Hope AI\n"
     ]
    }
   ],
   "source": [
    "ins=input(\"enter your institute name:\")\n",
    "print (ins)\n"
   ]
  },
  {
   "cell_type": "code",
   "execution_count": 5,
   "id": "36ce7042",
   "metadata": {},
   "outputs": [
    {
     "name": "stdout",
     "output_type": "stream",
     "text": [
      "enter your name:Raj\n",
      "enter your age:15\n",
      "enter your school name:Guru School\n",
      "enter your degree:B.E.Degree\n"
     ]
    }
   ],
   "source": [
    "name=input(\"enter your name:\")\n",
    "age=input(\"enter your age:\")\n",
    "schoolname=input(\"enter your school name:\")\n",
    "degree=input(\"enter your degree:\")\n"
   ]
  },
  {
   "cell_type": "code",
   "execution_count": 7,
   "id": "96d0ede3",
   "metadata": {},
   "outputs": [
    {
     "name": "stdout",
     "output_type": "stream",
     "text": [
      "enter a=43\n",
      "enter b=34\n",
      "add= 77\n"
     ]
    }
   ],
   "source": [
    "a= int(input(\"enter a=\"))\n",
    "b= int(input(\"enter b=\"))\n",
    "add=a+b\n",
    "print(\"add=\",add)"
   ]
  },
  {
   "cell_type": "code",
   "execution_count": 9,
   "id": "36049961",
   "metadata": {},
   "outputs": [
    {
     "name": "stdout",
     "output_type": "stream",
     "text": [
      "enter a=43\n",
      "enter b=34\n",
      "sub= 9\n"
     ]
    }
   ],
   "source": [
    "a= int(input(\"enter a=\"))\n",
    "b= int(input(\"enter b=\"))\n",
    "sub=a-b\n",
    "print(\"sub=\",sub)"
   ]
  },
  {
   "cell_type": "code",
   "execution_count": 10,
   "id": "db1e2f0f",
   "metadata": {},
   "outputs": [
    {
     "name": "stdout",
     "output_type": "stream",
     "text": [
      "enter a=63\n",
      "enter b=97\n",
      "mul= 6111\n"
     ]
    }
   ],
   "source": [
    "a= int(input(\"enter a=\"))\n",
    "b= int(input(\"enter b=\"))\n",
    "mul=a*b\n",
    "print(\"mul=\",mul)"
   ]
  },
  {
   "cell_type": "code",
   "execution_count": 11,
   "id": "0997d09b",
   "metadata": {},
   "outputs": [
    {
     "name": "stdout",
     "output_type": "stream",
     "text": [
      "enter a=76\n",
      "enter b=31\n",
      "div= 2.4516129032258065\n"
     ]
    }
   ],
   "source": [
    "a= int(input(\"enter a=\"))\n",
    "b= int(input(\"enter b=\"))\n",
    "div=a/b\n",
    "print(\"div=\",div)"
   ]
  },
  {
   "cell_type": "code",
   "execution_count": 14,
   "id": "0552d211",
   "metadata": {},
   "outputs": [
    {
     "name": "stdout",
     "output_type": "stream",
     "text": [
      "enter a=76\n",
      "enter b=31\n",
      "div= 2\n"
     ]
    }
   ],
   "source": [
    "a= int(input(\"enter a=\"))\n",
    "b= int(input(\"enter b=\"))\n",
    "div=a//b\n",
    "print(\"div=\",div)"
   ]
  },
  {
   "cell_type": "code",
   "execution_count": 15,
   "id": "bcc82829",
   "metadata": {},
   "outputs": [
    {
     "name": "stdout",
     "output_type": "stream",
     "text": [
      "enter a=76\n",
      "enter b=31\n",
      "modulo= 14\n"
     ]
    }
   ],
   "source": [
    "a= int(input(\"enter a=\"))\n",
    "b= int(input(\"enter b=\"))\n",
    "modulo=a%b\n",
    "print(\"modulo=\",modulo)"
   ]
  },
  {
   "cell_type": "code",
   "execution_count": 18,
   "id": "a269db9e",
   "metadata": {},
   "outputs": [
    {
     "name": "stdout",
     "output_type": "stream",
     "text": [
      "enter a=4\n",
      "enter b=4\n",
      "power= 256\n"
     ]
    }
   ],
   "source": [
    "a= int(input(\"enter a=\"))\n",
    "b= int(input(\"enter b=\"))\n",
    "pow=a**b\n",
    "print(\"power=\",pow)"
   ]
  },
  {
   "cell_type": "code",
   "execution_count": null,
   "id": "2a4f1253",
   "metadata": {},
   "outputs": [],
   "source": []
  }
 ],
 "metadata": {
  "kernelspec": {
   "display_name": "Python 3 (ipykernel)",
   "language": "python",
   "name": "python3"
  },
  "language_info": {
   "codemirror_mode": {
    "name": "ipython",
    "version": 3
   },
   "file_extension": ".py",
   "mimetype": "text/x-python",
   "name": "python",
   "nbconvert_exporter": "python",
   "pygments_lexer": "ipython3",
   "version": "3.11.4"
  }
 },
 "nbformat": 4,
 "nbformat_minor": 5
}
