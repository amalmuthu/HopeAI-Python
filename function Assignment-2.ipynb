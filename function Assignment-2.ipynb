{
 "cells": [
  {
   "cell_type": "code",
   "execution_count": 20,
   "id": "876aaf60",
   "metadata": {},
   "outputs": [
    {
     "name": "stdout",
     "output_type": "stream",
     "text": [
      "Enter inputs separated by space: MachineLearning NeuralNetworks Vision Robotics SpeechProcessing NaturalLanguageProcessing\n",
      "Sub-fields in AI are:\n",
      "MachineLearning\n",
      "NeuralNetworks\n",
      "Vision\n",
      "Robotics\n",
      "SpeechProcessing\n",
      "NaturalLanguageProcessing\n"
     ]
    }
   ],
   "source": [
    "class AI_Subfields():\n",
    "     def Subfields(self):\n",
    "       user_inputs = input(\"Enter inputs separated by space: \").split()\n",
    "    \n",
    "    \n",
    "       print(\"Sub-fields in AI are:\")\n",
    "       for input_value in user_inputs:\n",
    "             print(input_value)\n",
    "\n",
    "\n",
    "obj=AI_Subfields()\n",
    "obj.Subfields()\n"
   ]
  },
  {
   "cell_type": "code",
   "execution_count": 21,
   "id": "bc7c0a8a",
   "metadata": {},
   "outputs": [
    {
     "name": "stdout",
     "output_type": "stream",
     "text": [
      "Enter Number:67\n",
      "Number is odd\n"
     ]
    }
   ],
   "source": [
    "class find_Oddeven():\n",
    "  def OddEven(self):\n",
    "    user_input = int(input(\"Enter Number:\"))\n",
    "     \n",
    "    if user_input % 2 != 0:\n",
    "          print (\"Number is odd\")\n",
    "    else:\n",
    "          print(\"Number is even\")\n",
    " \n",
    "\n",
    "obj=find_Oddeven()\n",
    "obj.OddEven()"
   ]
  },
  {
   "cell_type": "code",
   "execution_count": 23,
   "id": "fe7723f5",
   "metadata": {},
   "outputs": [
    {
     "name": "stdout",
     "output_type": "stream",
     "text": [
      "Enter your gender (male/female): female\n",
      "Enter your age: 22\n",
      " You are eligible for marriage.\n"
     ]
    }
   ],
   "source": [
    "class elig():\n",
    " def eligibility(self,gender, age):\n",
    "    if gender.lower() == 'male':\n",
    "        if age >= 21:\n",
    "            print(\"You are eligible for marriage.\")\n",
    "        else:\n",
    "            print(\"not eligible for marriage\")\n",
    "    elif gender.lower() == 'female':\n",
    "        if age >= 18:\n",
    "            print(\" You are eligible for marriage.\")\n",
    "        else:\n",
    "            print(\"you are not eligible for marriage yet.\")\n",
    "    else:\n",
    "        print(\"Invalid gender input\")\n",
    "\n",
    "# Example usage:\n",
    "gender = input(\"Enter your gender (male/female): \")\n",
    "age = int(input(\"Enter your age: \"))\n",
    "\n",
    "obj=elig()\n",
    "obj.eligibility(gender, age)\n"
   ]
  },
  {
   "cell_type": "code",
   "execution_count": 25,
   "id": "72901c15",
   "metadata": {},
   "outputs": [
    {
     "name": "stdout",
     "output_type": "stream",
     "text": [
      "Enter marks for Subject 1: 98\n",
      "Enter marks for Subject 2: 95\n",
      "Enter marks for Subject 3: 92\n",
      "Enter marks for Subject 4: 90\n",
      "Enter marks for Subject 5: 89\n",
      "Subject 1: 98\n",
      "Subject 2: 95\n",
      "Subject 3: 92\n",
      "Subject 4: 90\n",
      "Subject 5: 89\n",
      "Total: 464\n",
      "Percentage: 92.80000000000001\n"
     ]
    }
   ],
   "source": [
    "class percent():\n",
    "  def calculate_percentage(self):\n",
    "    num_subjects = 5\n",
    "    total_marks = 0\n",
    "    scores = []\n",
    "\n",
    "    for i in range(1,6):\n",
    "        score = int(input(f\"Enter marks for Subject {i}: \"))\n",
    "        scores.append(score)\n",
    "        total_marks += score\n",
    "\n",
    "        max_marks = num_subjects * 100  # Assuming each subject is out of 100\n",
    "\n",
    "   \n",
    "        percentage = (total_marks / max_marks) * 100\n",
    "\n",
    "   \n",
    "    for i in range(1, 6):\n",
    "        print(f\"Subject {i}: {scores[i - 1]}\")\n",
    "       \n",
    "    \n",
    "    print(\"Total:\", total_marks)\n",
    "    print(\"Percentage:\", percentage)\n",
    "\n",
    "        \n",
    "obj=percent()\n",
    "obj.calculate_percentage()"
   ]
  },
  {
   "cell_type": "code",
   "execution_count": 36,
   "id": "ab960922",
   "metadata": {},
   "outputs": [
    {
     "name": "stdout",
     "output_type": "stream",
     "text": [
      "area= 15.0\n",
      "perimeter= 12\n"
     ]
    }
   ],
   "source": [
    "class areaperimeter():\n",
    "   def calculate_area(self,base, height):\n",
    "      area = (base * height) / 2\n",
    "      return area\n",
    "\n",
    "   def calculate_perimeter(self,side1, side2, side3):\n",
    "       perimeter = side1 + side2 + side3\n",
    "       return perimeter\n",
    "\n",
    "obj=areaperimeter()\n",
    "\n",
    "area=obj.calculate_area(5,6)\n",
    "print(\"area=\",area)\n",
    "\n",
    "perimeter=obj.calculate_perimeter(3,4,5)\n",
    "print(\"perimeter=\",perimeter)\n",
    "\n",
    "\n"
   ]
  },
  {
   "cell_type": "code",
   "execution_count": null,
   "id": "83a88898",
   "metadata": {},
   "outputs": [],
   "source": []
  }
 ],
 "metadata": {
  "kernelspec": {
   "display_name": "Python 3 (ipykernel)",
   "language": "python",
   "name": "python3"
  },
  "language_info": {
   "codemirror_mode": {
    "name": "ipython",
    "version": 3
   },
   "file_extension": ".py",
   "mimetype": "text/x-python",
   "name": "python",
   "nbconvert_exporter": "python",
   "pygments_lexer": "ipython3",
   "version": "3.11.4"
  }
 },
 "nbformat": 4,
 "nbformat_minor": 5
}
