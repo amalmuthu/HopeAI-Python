{
 "cells": [
  {
   "cell_type": "code",
   "execution_count": 7,
   "id": "51457342",
   "metadata": {},
   "outputs": [
    {
     "name": "stdout",
     "output_type": "stream",
     "text": [
      "0\n",
      "1\n",
      "2\n",
      "3\n",
      "4\n",
      "5\n",
      "6\n",
      "7\n",
      "8\n",
      "9\n",
      "10\n",
      "11\n",
      "12\n",
      "13\n",
      "14\n",
      "15\n",
      "16\n",
      "17\n",
      "18\n",
      "19\n",
      "20\n"
     ]
    }
   ],
   "source": [
    "for i in range(0,21):\n",
    " print(i)"
   ]
  },
  {
   "cell_type": "code",
   "execution_count": 12,
   "id": "b4105b67",
   "metadata": {},
   "outputs": [
    {
     "name": "stdout",
     "output_type": "stream",
     "text": [
      "[10, 11, 12, 13, 14, 15, 16, 17, 18, 19, 20]\n"
     ]
    }
   ],
   "source": [
    "ran=range(10,21)\n",
    "lis=list(ran)\n",
    "print(lis)"
   ]
  },
  {
   "cell_type": "code",
   "execution_count": 16,
   "id": "d8968e08",
   "metadata": {},
   "outputs": [
    {
     "name": "stdout",
     "output_type": "stream",
     "text": [
      "7\n"
     ]
    }
   ],
   "source": [
    "\n",
    "l=[2,3,12,45,56,67,68]\n",
    "t=len(l)\n",
    "print(t)"
   ]
  },
  {
   "cell_type": "code",
   "execution_count": 19,
   "id": "e568f923",
   "metadata": {},
   "outputs": [
    {
     "name": "stdout",
     "output_type": "stream",
     "text": [
      "artifical intelligence\n",
      "a\n",
      "r\n",
      "t\n",
      "i\n",
      "f\n",
      "i\n",
      "c\n",
      "a\n",
      "l\n",
      " \n",
      "i\n",
      "n\n",
      "t\n",
      "e\n",
      "l\n",
      "l\n",
      "i\n",
      "g\n",
      "e\n",
      "n\n",
      "c\n",
      "e\n"
     ]
    }
   ],
   "source": [
    "word= \"artifical intelligence\"\n",
    "print(word)\n",
    "for i in (word):\n",
    " print(i)"
   ]
  },
  {
   "cell_type": "code",
   "execution_count": 25,
   "id": "019d6690",
   "metadata": {},
   "outputs": [
    {
     "name": "stdout",
     "output_type": "stream",
     "text": [
      "amy\n",
      "20\n",
      "engineer\n",
      "amy\n",
      "20\n",
      "engineer\n"
     ]
    }
   ],
   "source": [
    "n=input()\n",
    "a=input()\n",
    "p=input()\n",
    "print(n)\n",
    "print(a)\n",
    "print(p)"
   ]
  },
  {
   "cell_type": "raw",
   "id": "3fdb5b54",
   "metadata": {},
   "source": [
    "list=[1,'WELCOME',2,'HOPE']\n",
    "l=tuple(list)\n",
    "print(l)"
   ]
  },
  {
   "cell_type": "code",
   "execution_count": 26,
   "id": "535e0021",
   "metadata": {},
   "outputs": [
    {
     "name": "stdout",
     "output_type": "stream",
     "text": [
      "((0, 1, 2, 3), ('PYTHON', 'HOPE'))\n"
     ]
    }
   ],
   "source": [
    "tuple=((0,1,2,3),('PYTHON','HOPE'))\n",
    "print(tuple)"
   ]
  },
  {
   "cell_type": "code",
   "execution_count": 32,
   "id": "83f4f622",
   "metadata": {},
   "outputs": [
    {
     "name": "stdout",
     "output_type": "stream",
     "text": [
      "19 is odd\n",
      "25 is odd\n",
      "1 is odd\n"
     ]
    }
   ],
   "source": [
    "list=[20,10,16,19,25,1,276,188]\n",
    "for i in list:\n",
    "    \n",
    " if i%2!=0:\n",
    "    print (i, \"is odd\")\n",
    "    "
   ]
  },
  {
   "cell_type": "code",
   "execution_count": 34,
   "id": "42bac1ef",
   "metadata": {},
   "outputs": [
    {
     "name": "stdout",
     "output_type": "stream",
     "text": [
      "20 is even\n",
      "10 is even\n",
      "16 is even\n",
      "276 is even\n",
      "188 is even\n"
     ]
    }
   ],
   "source": [
    "\n",
    "list=[20,10,16,19,25,1,276,188]\n",
    "for i in list:\n",
    "    \n",
    " if i%2==0:\n",
    "    print (i, \"is even\")\n",
    "    \n",
    "\n",
    "\n"
   ]
  },
  {
   "cell_type": "code",
   "execution_count": null,
   "id": "f6d2efe4",
   "metadata": {},
   "outputs": [],
   "source": []
  }
 ],
 "metadata": {
  "kernelspec": {
   "display_name": "Python 3 (ipykernel)",
   "language": "python",
   "name": "python3"
  },
  "language_info": {
   "codemirror_mode": {
    "name": "ipython",
    "version": 3
   },
   "file_extension": ".py",
   "mimetype": "text/x-python",
   "name": "python",
   "nbconvert_exporter": "python",
   "pygments_lexer": "ipython3",
   "version": "3.11.4"
  }
 },
 "nbformat": 4,
 "nbformat_minor": 5
}
